{
  "nbformat": 4,
  "nbformat_minor": 0,
  "metadata": {
    "colab": {
      "provenance": []
    },
    "kernelspec": {
      "name": "python3",
      "display_name": "Python 3"
    },
    "language_info": {
      "name": "python"
    }
  },
  "cells": [
    {
      "cell_type": "markdown",
      "source": [],
      "metadata": {
        "id": "UxAlY13OOjZD"
      }
    },
    {
      "cell_type": "markdown",
      "source": [
        "Create variables Of types:string,integer,float and boolean.print their value and types."
      ],
      "metadata": {
        "id": "xFLAhFpWOtrf"
      }
    },
    {
      "cell_type": "code",
      "source": [
        "a=\"hello world\";\n",
        "b=45;\n",
        "c=6.67;\n",
        "d:bool=True;\n",
        "print(type(a),\"a=\",'hello world')\n",
        "print(type(b),\"b=\",45)\n",
        "print(type(c),\"c=\",6.67)\n",
        "print(type(d),\"bool=\",True)"
      ],
      "metadata": {
        "colab": {
          "base_uri": "https://localhost:8080/"
        },
        "id": "PGOdaA_3SMsv",
        "outputId": "7e034aab-aa2c-4d51-fd60-6ec6a48b6c62"
      },
      "execution_count": null,
      "outputs": [
        {
          "output_type": "stream",
          "name": "stdout",
          "text": [
            "<class 'str'> a= hello world\n",
            "<class 'int'> b= 45\n",
            "<class 'float'> c= 6.67\n",
            "<class 'bool'> bool= True\n"
          ]
        }
      ]
    },
    {
      "cell_type": "markdown",
      "source": [
        "Make a List of 5 fruits and print."
      ],
      "metadata": {
        "id": "NVYXaucfUg1Q"
      }
    },
    {
      "cell_type": "code",
      "source": [
        "list1:\"Fruits\"=[\"apple,bananna,kiwi,grapes,mango\"]\n",
        "print(list1)"
      ],
      "metadata": {
        "colab": {
          "base_uri": "https://localhost:8080/"
        },
        "id": "95MImm2zVBlJ",
        "outputId": "68b62354-681e-4ac4-bc0f-380ae9fc8691"
      },
      "execution_count": null,
      "outputs": [
        {
          "output_type": "stream",
          "name": "stdout",
          "text": [
            "['apple,bananna,kiwi,grapes,mango']\n"
          ]
        }
      ]
    },
    {
      "cell_type": "markdown",
      "source": [
        "Create a tuple of 3 favourite numbers and print."
      ],
      "metadata": {
        "id": "xVime6vLXBLf"
      }
    },
    {
      "cell_type": "code",
      "source": [
        "my_tuple:tuple=(1,2,3,4,5)\n",
        "print(my_tuple)"
      ],
      "metadata": {
        "colab": {
          "base_uri": "https://localhost:8080/"
        },
        "id": "W3Lv9CfnYpGt",
        "outputId": "a4123c00-d42b-4bed-b9e3-647923bdfabb"
      },
      "execution_count": null,
      "outputs": [
        {
          "output_type": "stream",
          "name": "stdout",
          "text": [
            "(1, 2, 3, 4, 5)\n"
          ]
        }
      ]
    },
    {
      "cell_type": "markdown",
      "source": [
        "Define a dictionary with keys:name,age,city and print all key values."
      ],
      "metadata": {
        "id": "ra5KrOgTZOmo"
      }
    },
    {
      "cell_type": "code",
      "source": [
        "my_dic:dict={\"name\":\"freen\",\"age\":\"17\",\"city\":\"gujranwala\"}\n",
        "print(my_dic)"
      ],
      "metadata": {
        "colab": {
          "base_uri": "https://localhost:8080/"
        },
        "id": "-0YzNBvjZlg1",
        "outputId": "a516bc08-dcec-45eb-8780-6e32df458032"
      },
      "execution_count": null,
      "outputs": [
        {
          "output_type": "stream",
          "name": "stdout",
          "text": [
            "{'name': 'freen', 'age': '17', 'city': 'gujranwala'}\n"
          ]
        }
      ]
    },
    {
      "cell_type": "markdown",
      "source": [
        "Create a set of unique hobbies."
      ],
      "metadata": {
        "id": "4UyPg91gbxqw"
      }
    },
    {
      "cell_type": "code",
      "source": [
        "my_hobbies:set={\"playing\",\"gardening\",\"reading\"}\n",
        "print(my_hobbies)"
      ],
      "metadata": {
        "colab": {
          "base_uri": "https://localhost:8080/"
        },
        "id": "SGpGc9l0b-vG",
        "outputId": "5da32b8b-5338-4443-e253-2c47eb96f793"
      },
      "execution_count": null,
      "outputs": [
        {
          "output_type": "stream",
          "name": "stdout",
          "text": [
            "{'playing', 'gardening', 'reading'}\n"
          ]
        }
      ]
    },
    {
      "cell_type": "markdown",
      "source": [
        "Make a list of 5 student names and print."
      ],
      "metadata": {
        "id": "TAk-C6CfcBRD"
      }
    },
    {
      "cell_type": "code",
      "source": [
        "my_name:\"name\"=[\"ali\",\"sara\",\"karam\",\"amber\",\"mano\"]\n",
        "print(my_name)"
      ],
      "metadata": {
        "colab": {
          "base_uri": "https://localhost:8080/"
        },
        "id": "V5x2dSkddKsM",
        "outputId": "984a6baf-f82b-4d13-ad86-894b58758bbe"
      },
      "execution_count": null,
      "outputs": [
        {
          "output_type": "stream",
          "name": "stdout",
          "text": [
            "['ali', 'sara', 'karam', 'amber', 'mano']\n"
          ]
        }
      ]
    },
    {
      "cell_type": "markdown",
      "source": [
        "Create a dictionary of 3 programming languages with their creators and print them."
      ],
      "metadata": {
        "id": "CBn2plaXemv8"
      }
    },
    {
      "cell_type": "code",
      "source": [
        "my_dic:dict={\"python\":\"guido van rossum\",\"c++\":\"bjarne strostup\",\"java\":\"james gossling\"}\n",
        "print(my_dic)"
      ],
      "metadata": {
        "colab": {
          "base_uri": "https://localhost:8080/"
        },
        "id": "oKtdZBxNfGCy",
        "outputId": "3cbf2fe7-8746-4ac3-806f-757a0a8d22c0"
      },
      "execution_count": null,
      "outputs": [
        {
          "output_type": "stream",
          "name": "stdout",
          "text": [
            "{'python': 'guido van rossum', 'c++': 'bjarne strostup', 'java': 'james gossling'}\n"
          ]
        }
      ]
    },
    {
      "cell_type": "markdown",
      "source": [
        "Create a tuple of 4 cities."
      ],
      "metadata": {
        "id": "cB5I4u-xgRcu"
      }
    },
    {
      "cell_type": "code",
      "source": [
        "my_tuple:tuple=(\"karachi\",\"lahore\",\"sialkot\",\"islamabad\")\n",
        "print(my_tuple)"
      ],
      "metadata": {
        "colab": {
          "base_uri": "https://localhost:8080/"
        },
        "id": "G-WRmGm7gmGZ",
        "outputId": "bc5272b8-7a7e-4231-d482-683fc5df85c2"
      },
      "execution_count": null,
      "outputs": [
        {
          "output_type": "stream",
          "name": "stdout",
          "text": [
            "('karachi', 'lahore', 'sialkot', 'islamabad')\n"
          ]
        }
      ]
    },
    {
      "cell_type": "markdown",
      "source": [
        "Make a set of vowels in a string and print."
      ],
      "metadata": {
        "id": "Ww4I_7_FhFeg"
      }
    },
    {
      "cell_type": "code",
      "source": [
        "set1:set={\"a\",\"e\",\"i\",\"o\",\"u\"}\n",
        "print(set1)"
      ],
      "metadata": {
        "colab": {
          "base_uri": "https://localhost:8080/"
        },
        "id": "rbBp6HPLhXle",
        "outputId": "1c2a7c9b-bd8e-4abc-91c9-e48971ccf1c5"
      },
      "execution_count": null,
      "outputs": [
        {
          "output_type": "stream",
          "name": "stdout",
          "text": [
            "{'e', 'u', 'a', 'i', 'o'}\n"
          ]
        }
      ]
    },
    {
      "cell_type": "markdown",
      "source": [
        "Store 3 float numbers and calculate their average."
      ],
      "metadata": {
        "id": "IY3Pwrk-inxa"
      }
    },
    {
      "cell_type": "code",
      "source": [
        "a=3.9;\n",
        "b=4.6;\n",
        "c=5.7;\n",
        "avg=(a+b+c)/3\n",
        "print(avg)"
      ],
      "metadata": {
        "colab": {
          "base_uri": "https://localhost:8080/"
        },
        "id": "8YEUzCqZjXRU",
        "outputId": "2a533662-3608-430f-ca2a-5ddb69f03721"
      },
      "execution_count": null,
      "outputs": [
        {
          "output_type": "stream",
          "name": "stdout",
          "text": [
            "4.733333333333333\n"
          ]
        }
      ]
    }
  ]
}