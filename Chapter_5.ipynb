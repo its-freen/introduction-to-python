{
  "nbformat": 4,
  "nbformat_minor": 0,
  "metadata": {
    "colab": {
      "provenance": []
    },
    "kernelspec": {
      "name": "python3",
      "display_name": "Python 3"
    },
    "language_info": {
      "name": "python"
    }
  },
  "cells": [
    {
      "cell_type": "code",
      "source": [
        "num=3\n",
        "if num>0:\n",
        "  print(\"number is positive\")\n",
        "elif num<0:\n",
        "  print(\"number is negative\")\n",
        "else:\n",
        "  print(\"number is zero\")\n"
      ],
      "metadata": {
        "colab": {
          "base_uri": "https://localhost:8080/"
        },
        "id": "oStVag3i-I8P",
        "outputId": "4e9684df-641d-46a0-840c-5419e8f27d27"
      },
      "execution_count": null,
      "outputs": [
        {
          "output_type": "stream",
          "name": "stdout",
          "text": [
            "number is positive\n"
          ]
        }
      ]
    },
    {
      "cell_type": "code",
      "source": [
        "num=5\n",
        "if num==2:\n",
        "  print(\"number is even\")\n",
        "elif num!=2:\n",
        "  print(\"number is odd\")\n",
        "else:\n",
        "  print(\"number is zero\")"
      ],
      "metadata": {
        "colab": {
          "base_uri": "https://localhost:8080/"
        },
        "id": "tZbuJTdD_FOJ",
        "outputId": "2a6e022a-b393-4a78-b4e3-4780d129364e"
      },
      "execution_count": null,
      "outputs": [
        {
          "output_type": "stream",
          "name": "stdout",
          "text": [
            "number is odd\n"
          ]
        }
      ]
    },
    {
      "cell_type": "code",
      "source": [
        "age=34\n",
        "if age>=18:\n",
        "  print(\"you are eligible for vote\")\n",
        "else:\n",
        "  print(\"you are not eligible for vote\")"
      ],
      "metadata": {
        "colab": {
          "base_uri": "https://localhost:8080/"
        },
        "id": "KUJ3-CezBAUi",
        "outputId": "d1a3c136-c585-4c50-f422-9063a1096b3e"
      },
      "execution_count": null,
      "outputs": [
        {
          "output_type": "stream",
          "name": "stdout",
          "text": [
            "you are eligible for vote\n"
          ]
        }
      ]
    },
    {
      "cell_type": "code",
      "source": [
        "num=56\n",
        "if num%3==0:\n",
        "  print(\"number is divisible by 3\")\n",
        "if num%5==0:\n",
        "  print(\"number is divisible by 5\")\n",
        "else:\n",
        "  print(\"number is divisible by both 3,5\")"
      ],
      "metadata": {
        "colab": {
          "base_uri": "https://localhost:8080/"
        },
        "id": "UA4yQdpyBgpP",
        "outputId": "eb7b898a-7356-4ec9-edb4-5b067fa9db44"
      },
      "execution_count": null,
      "outputs": [
        {
          "output_type": "stream",
          "name": "stdout",
          "text": [
            "number is divisible by both 3,5\n"
          ]
        }
      ]
    },
    {
      "cell_type": "code",
      "source": [
        "marks=83\n",
        "if marks>=90:\n",
        "  print(\"grade A\")\n",
        "elif marks>=80:\n",
        "  print(\"grade B\")\n",
        "elif marks>=70:\n",
        "  print(\"grade C\")\n",
        "else:\n",
        "  print(\"grade D\")"
      ],
      "metadata": {
        "colab": {
          "base_uri": "https://localhost:8080/"
        },
        "id": "Ha0FiV8wECHl",
        "outputId": "e41ba197-657b-4431-a2c5-2b6655756690"
      },
      "execution_count": null,
      "outputs": [
        {
          "output_type": "stream",
          "name": "stdout",
          "text": [
            "grade B\n"
          ]
        }
      ]
    },
    {
      "cell_type": "code",
      "source": [
        "num=1\n",
        "for num in range(1,11):\n",
        " print(num)"
      ],
      "metadata": {
        "colab": {
          "base_uri": "https://localhost:8080/"
        },
        "id": "p4FMnQKEFIrb",
        "outputId": "3cdfa063-29f5-4579-e168-e9a1114be5f4"
      },
      "execution_count": null,
      "outputs": [
        {
          "output_type": "stream",
          "name": "stdout",
          "text": [
            "1\n",
            "2\n",
            "3\n",
            "4\n",
            "5\n",
            "6\n",
            "7\n",
            "8\n",
            "9\n",
            "10\n"
          ]
        }
      ]
    },
    {
      "cell_type": "code",
      "source": [
        "num=6\n",
        "for num in range(1,11):\n",
        "  print(num*6)"
      ],
      "metadata": {
        "colab": {
          "base_uri": "https://localhost:8080/"
        },
        "id": "Mt8okM3MFsJ_",
        "outputId": "17c9c9ae-1f62-484d-c23b-83733b25c25e"
      },
      "execution_count": null,
      "outputs": [
        {
          "output_type": "stream",
          "name": "stdout",
          "text": [
            "6\n",
            "12\n",
            "18\n",
            "24\n",
            "30\n",
            "36\n",
            "42\n",
            "48\n",
            "54\n",
            "60\n"
          ]
        }
      ]
    },
    {
      "cell_type": "code",
      "source": [
        "num=0\n",
        "for num in range(0,21):\n",
        "  if num%2==0:\n",
        "    print(num)\n",
        "\n"
      ],
      "metadata": {
        "colab": {
          "base_uri": "https://localhost:8080/"
        },
        "id": "6ZtECHpVJI6H",
        "outputId": "66ccbae3-cb1a-4642-e652-2260bb86b9ba"
      },
      "execution_count": null,
      "outputs": [
        {
          "output_type": "stream",
          "name": "stdout",
          "text": [
            "0\n",
            "2\n",
            "4\n",
            "6\n",
            "8\n",
            "10\n",
            "12\n",
            "14\n",
            "16\n",
            "18\n",
            "20\n"
          ]
        }
      ]
    },
    {
      "cell_type": "code",
      "source": [
        "my_word=\"pakistan\"\n",
        "for char in my_word:\n",
        "  print(char)"
      ],
      "metadata": {
        "colab": {
          "base_uri": "https://localhost:8080/"
        },
        "id": "At7XpRMSLf96",
        "outputId": "e39538d0-6cfe-4bbb-87dd-6bc3bd896074"
      },
      "execution_count": null,
      "outputs": [
        {
          "output_type": "stream",
          "name": "stdout",
          "text": [
            "p\n",
            "a\n",
            "k\n",
            "i\n",
            "s\n",
            "t\n",
            "a\n",
            "n\n"
          ]
        }
      ]
    },
    {
      "cell_type": "code",
      "source": [
        "word=\"education\"\n",
        "for vowels in word:\n",
        "  if vowels in \"aeiou\":\n",
        "   print(vowels)"
      ],
      "metadata": {
        "colab": {
          "base_uri": "https://localhost:8080/"
        },
        "id": "jfXWySBFMfp9",
        "outputId": "f86488d4-841d-467b-cacf-22b56c96724c"
      },
      "execution_count": null,
      "outputs": [
        {
          "output_type": "stream",
          "name": "stdout",
          "text": [
            "e\n",
            "u\n",
            "a\n",
            "i\n",
            "o\n"
          ]
        }
      ]
    }
  ]
}