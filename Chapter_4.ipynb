{
  "nbformat": 4,
  "nbformat_minor": 0,
  "metadata": {
    "colab": {
      "provenance": []
    },
    "kernelspec": {
      "name": "python3",
      "display_name": "Python 3"
    },
    "language_info": {
      "name": "python"
    }
  },
  "cells": [
    {
      "cell_type": "markdown",
      "source": [
        "1.create a variable with your name and print each character using loop."
      ],
      "metadata": {
        "id": "cVw1VqNi7FFQ"
      }
    },
    {
      "cell_type": "code",
      "source": [
        "my_name=\"freen\"\n",
        "for char in my_name:\n",
        " print(char)"
      ],
      "metadata": {
        "colab": {
          "base_uri": "https://localhost:8080/"
        },
        "id": "WutMpeby7Tst",
        "outputId": "2ec62297-b39f-4a52-f771-3f2e4259cde4"
      },
      "execution_count": null,
      "outputs": [
        {
          "output_type": "stream",
          "name": "stdout",
          "text": [
            "f\n",
            "r\n",
            "e\n",
            "e\n",
            "n\n"
          ]
        }
      ]
    },
    {
      "cell_type": "markdown",
      "source": [
        "2.use slicing to print the fist 4 characters of a string."
      ],
      "metadata": {
        "id": "3SA2tD0J707V"
      }
    },
    {
      "cell_type": "code",
      "source": [
        "my_string=\"world\"\n",
        "print(my_string[:4])"
      ],
      "metadata": {
        "colab": {
          "base_uri": "https://localhost:8080/"
        },
        "id": "hPWfCc4E8KI7",
        "outputId": "77ad2e21-21de-4269-d9d8-d19d6bb4632d"
      },
      "execution_count": null,
      "outputs": [
        {
          "output_type": "stream",
          "name": "stdout",
          "text": [
            "worl\n"
          ]
        }
      ]
    },
    {
      "cell_type": "markdown",
      "source": [
        "3.ask the user to input a number as a string ,convert it into int,add 10 and print the result."
      ],
      "metadata": {
        "id": "KzyrD_5y8cwa"
      }
    },
    {
      "cell_type": "code",
      "source": [
        "num=\"83\"\n",
        "result=int(num)+10\n",
        "print(result)\n"
      ],
      "metadata": {
        "colab": {
          "base_uri": "https://localhost:8080/"
        },
        "id": "JfEpCfE88xr2",
        "outputId": "4189767f-1fb9-4ff9-d468-f3982c665b12"
      },
      "execution_count": null,
      "outputs": [
        {
          "output_type": "stream",
          "name": "stdout",
          "text": [
            "93\n"
          ]
        }
      ]
    },
    {
      "cell_type": "markdown",
      "source": [
        " 4.create a list of string numbers like [\"10\",\"20\",\"30\"],convert to int,and print updated list."
      ],
      "metadata": {
        "id": "F_FEMjSN-Tyu"
      }
    },
    {
      "cell_type": "code",
      "source": [
        "my_list=[\"10\",\"20\",\"30\"]\n",
        "int_list=[int(num) for num in my_list]\n",
        "print(int_list)"
      ],
      "metadata": {
        "colab": {
          "base_uri": "https://localhost:8080/"
        },
        "id": "esGnjDQe-49U",
        "outputId": "cf3dcc03-9fd9-4833-baa5-938445e9f570"
      },
      "execution_count": null,
      "outputs": [
        {
          "output_type": "stream",
          "name": "stdout",
          "text": [
            "[10, 20, 30]\n"
          ]
        }
      ]
    },
    {
      "cell_type": "markdown",
      "source": [
        "5.check if \"Python\" is in a string using in and print a message."
      ],
      "metadata": {
        "id": "ttIObdvWBCKC"
      }
    },
    {
      "cell_type": "code",
      "source": [
        "my_msg=\"i'm learning python from AI HUB\"\n",
        "if \"python\"in my_msg:\n",
        " print(\"python is in my_msg\")\n",
        "else:\n",
        "   print(\"python is not in my_msg\")"
      ],
      "metadata": {
        "colab": {
          "base_uri": "https://localhost:8080/"
        },
        "id": "FGtcQa9HBfAG",
        "outputId": "a858c141-5ddc-4235-899a-22715b654847"
      },
      "execution_count": null,
      "outputs": [
        {
          "output_type": "stream",
          "name": "stdout",
          "text": [
            "python is in my_msg\n"
          ]
        }
      ]
    },
    {
      "cell_type": "markdown",
      "source": [
        "6.create a string convert it into upper lower and title case."
      ],
      "metadata": {
        "id": "59el9wBpEB0s"
      }
    },
    {
      "cell_type": "code",
      "source": [
        "string=\"pakistan zindabad\"\n",
        "print(\"upper()=\",string.upper())\n",
        "print(\"lower()=\",string.lower())\n",
        "print(\"title()=\",string.title())"
      ],
      "metadata": {
        "colab": {
          "base_uri": "https://localhost:8080/"
        },
        "id": "HjVFWGc1GWNY",
        "outputId": "bc90dc45-47db-45ff-a1a9-cf665ceb059f"
      },
      "execution_count": null,
      "outputs": [
        {
          "output_type": "stream",
          "name": "stdout",
          "text": [
            "upper()= PAKISTAN ZINDABAD\n",
            "lower()= pakistan zindabad\n",
            "title()= Pakistan Zindabad\n"
          ]
        }
      ]
    },
    {
      "cell_type": "markdown",
      "source": [
        "7.use type to display data types before and after casting from string to integer."
      ],
      "metadata": {
        "id": "oKZrtFKjHDXI"
      }
    },
    {
      "cell_type": "code",
      "source": [
        "my_string=\"234\"\n",
        "result=int(my_string)\n",
        "print(type(my_string))\n",
        "print(type(result))"
      ],
      "metadata": {
        "colab": {
          "base_uri": "https://localhost:8080/"
        },
        "id": "IMUqndd3HV57",
        "outputId": "92ba6d99-119a-48fe-d334-68251da1f26a"
      },
      "execution_count": null,
      "outputs": [
        {
          "output_type": "stream",
          "name": "stdout",
          "text": [
            "<class 'str'>\n",
            "<class 'int'>\n"
          ]
        }
      ]
    },
    {
      "cell_type": "markdown",
      "source": [
        "8.take user input for name and age (casted to int )is above 18 and print eligibility."
      ],
      "metadata": {
        "id": "7XLLKILRH-xP"
      }
    },
    {
      "cell_type": "code",
      "source": [
        "name=\"freen\"\n",
        "age=\"18\"\n",
        "if int(age)>18:\n",
        " print(\"you are eligible\" )\n",
        "else:\n",
        "  print(\"you are not eligible\")"
      ],
      "metadata": {
        "colab": {
          "base_uri": "https://localhost:8080/"
        },
        "id": "A6JTZXg_IQQW",
        "outputId": "d13dffda-16ce-4f84-dd4e-49729ae9c236"
      },
      "execution_count": null,
      "outputs": [
        {
          "output_type": "stream",
          "name": "stdout",
          "text": [
            "you are not eligible\n"
          ]
        }
      ]
    },
    {
      "cell_type": "markdown",
      "source": [
        "9.create a variable with mixed case text.check if the text is uppercase and print results."
      ],
      "metadata": {
        "id": "SRrAFhUTJQ-l"
      }
    },
    {
      "cell_type": "code",
      "source": [
        "my_text=\"I LOVE PAKISTAN\"\n",
        "result=my_text.upper()\n",
        "print(\"my_text.upper()=\",my_text.upper())"
      ],
      "metadata": {
        "colab": {
          "base_uri": "https://localhost:8080/"
        },
        "id": "GMnYExDtJtmo",
        "outputId": "f70354ec-a512-4866-be37-4f8fb1077c36"
      },
      "execution_count": null,
      "outputs": [
        {
          "output_type": "stream",
          "name": "stdout",
          "text": [
            "my_text.upper()= I LOVE PAKISTAN\n"
          ]
        }
      ]
    },
    {
      "cell_type": "markdown",
      "source": [
        "10.create a string with numbers convert it to float and int print all conversions."
      ],
      "metadata": {
        "id": "zdS_-r0bLC8s"
      }
    },
    {
      "cell_type": "code",
      "source": [
        "number_string=\"2345\"\n",
        "result=float(number_string)\n",
        "result1=int(number_string)\n",
        "print(result,result1)"
      ],
      "metadata": {
        "colab": {
          "base_uri": "https://localhost:8080/"
        },
        "id": "1d8CdVefLUv2",
        "outputId": "74754b26-5eac-4912-cbaf-42bccb60a984"
      },
      "execution_count": null,
      "outputs": [
        {
          "output_type": "stream",
          "name": "stdout",
          "text": [
            "2345.0 2345\n"
          ]
        }
      ]
    }
  ]
}