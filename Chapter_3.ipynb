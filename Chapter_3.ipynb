{
  "cells": [
    {
      "cell_type": "code",
      "execution_count": null,
      "metadata": {
        "colab": {
          "base_uri": "https://localhost:8080/"
        },
        "id": "-gyNwXAwdIQd",
        "outputId": "816a08eb-a90e-4374-d082-7d46a9883085"
      },
      "outputs": [
        {
          "name": "stdout",
          "output_type": "stream",
          "text": [
            "a+b= 15\n",
            "a-b= -5\n",
            "a*n= 50\n",
            "a/b= 0.5\n",
            "a%b= 5\n"
          ]
        }
      ],
      "source": [
        "a=5\n",
        "b=10\n",
        "print(\"a+b=\",a+b)\n",
        "print(\"a-b=\",a-b)\n",
        "print(\"a*n=\",a*b)\n",
        "print(\"a/b=\",a/b)\n",
        "print(\"a%b=\",a%b)"
      ]
    },
    {
      "cell_type": "code",
      "execution_count": null,
      "metadata": {
        "colab": {
          "base_uri": "https://localhost:8080/"
        },
        "id": "K56nnhcWuPTh",
        "outputId": "37120a80-66ea-4caf-9ced-42aab546ca02"
      },
      "outputs": [
        {
          "name": "stdout",
          "output_type": "stream",
          "text": [
            "a==b= False\n",
            "a!=b= True\n",
            "a>b= True\n",
            "a<b= False\n",
            "a>=b= True\n",
            "a<=b= False\n"
          ]
        }
      ],
      "source": [
        "a=5\n",
        "b=4\n",
        "print(\"a==b=\",a==b)\n",
        "print(\"a!=b=\",a!=b)\n",
        "print(\"a>b=\",a>b)\n",
        "print(\"a<b=\",a<b)\n",
        "print(\"a>=b=\",a>=b)\n",
        "print(\"a<=b=\",a<=b)"
      ]
    },
    {
      "cell_type": "code",
      "execution_count": null,
      "metadata": {
        "colab": {
          "base_uri": "https://localhost:8080/"
        },
        "id": "kpE530lmNRpS",
        "outputId": "b45f5aac-e5e3-47d6-f493-451ee67dfd94"
      },
      "outputs": [
        {
          "name": "stdout",
          "output_type": "stream",
          "text": [
            "a and b= False\n",
            "a or b= True\n",
            "not a= False\n"
          ]
        }
      ],
      "source": [
        "a=True\n",
        "b=False\n",
        "print(\"a and b=\",a and b)\n",
        "print(\"a or b=\" ,a or b)\n",
        "print(\"not a=\",not a)"
      ]
    },
    {
      "cell_type": "code",
      "execution_count": null,
      "metadata": {
        "colab": {
          "base_uri": "https://localhost:8080/"
        },
        "id": "pyUJVEpNQ1vm",
        "outputId": "ee1ce54e-1028-4b92-b654-3d72c0f71f28"
      },
      "outputs": [
        {
          "output_type": "stream",
          "name": "stdout",
          "text": [
            "5\n",
            "8\n",
            "5\n",
            "15\n",
            "5.0\n",
            "1.0\n"
          ]
        }
      ],
      "source": [
        "x=5\n",
        "print(x);\n",
        "x+=3\n",
        "print(x);\n",
        "x-=3\n",
        "print(x);\n",
        "x*=3\n",
        "print(x);\n",
        "x/=3\n",
        "print(x);\n",
        "x//=3\n",
        "print(x);"
      ]
    },
    {
      "cell_type": "code",
      "source": [
        "a: list=[1,2,3,4]\n",
        "b: list=[1,2,3,4]\n",
        "\n",
        "print(\"a is  b\",a is  b)\n",
        "print(\"a is not b\",a is not b)\n",
        "print(\"a==b\",a==b)\n"
      ],
      "metadata": {
        "colab": {
          "base_uri": "https://localhost:8080/"
        },
        "id": "brWW-0WqZhhf",
        "outputId": "339583d3-5bb8-4449-bd00-c261d55e7aff"
      },
      "execution_count": null,
      "outputs": [
        {
          "output_type": "stream",
          "name": "stdout",
          "text": [
            "a is  b False\n",
            "a is not b True\n",
            "a==b True\n"
          ]
        }
      ]
    },
    {
      "cell_type": "code",
      "source": [
        "my_list:list=[\"1,2,3,4,5\"]\n",
        "print(\"my_list=\",my_list)\n",
        "print(\"3 in my_list=\",3 in my_list)\n",
        "print(\"6  not in my_list=\",6 not in my_list)"
      ],
      "metadata": {
        "id": "W6LgRckrctaW",
        "colab": {
          "base_uri": "https://localhost:8080/"
        },
        "outputId": "94130fdc-4a58-47fa-a5e6-7afa0db22208"
      },
      "execution_count": null,
      "outputs": [
        {
          "output_type": "stream",
          "name": "stdout",
          "text": [
            "my_list= ['1,2,3,4,5']\n",
            "3 in my_list= False\n",
            "6  not in my_list= True\n"
          ]
        }
      ]
    },
    {
      "cell_type": "code",
      "source": [
        "my_string:str=\"a,e,i,o,u\"\n",
        "print(\"my_string=\",my_string)\n",
        "print(\"'o' in my_string= \", 'o' in my_string)\n",
        "print(\"'b' not in my_string=\",'b' not in my_string)"
      ],
      "metadata": {
        "colab": {
          "base_uri": "https://localhost:8080/"
        },
        "id": "hJfeiaO5c6Sp",
        "outputId": "40cabaa6-1f0f-4a63-dda8-9a32a7090754"
      },
      "execution_count": null,
      "outputs": [
        {
          "output_type": "stream",
          "name": "stdout",
          "text": [
            "my_string= a,e,i,o,u\n",
            "'o' in my_string=  True\n",
            "'b' not in my_string= True\n"
          ]
        }
      ]
    },
    {
      "cell_type": "code",
      "source": [
        "name=\"ali karam\";\n",
        "age=20;\n",
        "height=5.7;\n",
        "print(type(name),\"name=\",'ali karam' )\n",
        "print(type(age),\"age=\",'20')\n",
        "print(type(height),\"height\",'5.7')"
      ],
      "metadata": {
        "colab": {
          "base_uri": "https://localhost:8080/"
        },
        "id": "ptL0-PzAjauH",
        "outputId": "24da1367-415c-4739-c204-7ad0ae86f874"
      },
      "execution_count": null,
      "outputs": [
        {
          "output_type": "stream",
          "name": "stdout",
          "text": [
            "<class 'str'> name= ali karam\n",
            "<class 'int'> age= 20\n",
            "<class 'float'> height 5.7\n"
          ]
        }
      ]
    },
    {
      "cell_type": "code",
      "source": [
        "Valid Variables"
      ],
      "metadata": {
        "id": "t6un71TunnT-"
      },
      "execution_count": null,
      "outputs": []
    },
    {
      "cell_type": "code",
      "source": [
        "valid_variable=(\"happy\",\"sara\",\"ahmed\",\"haider\")\n",
        "print(\"valid_variable=\",valid_variable)"
      ],
      "metadata": {
        "colab": {
          "base_uri": "https://localhost:8080/"
        },
        "id": "8chfDGSvnq-b",
        "outputId": "b8cbdf61-eef4-4745-c659-9a3fc9eb927b"
      },
      "execution_count": null,
      "outputs": [
        {
          "output_type": "stream",
          "name": "stdout",
          "text": [
            "valid_variable= ('happy', 'sara', 'ahmed', 'haider')\n"
          ]
        }
      ]
    },
    {
      "cell_type": "markdown",
      "source": [
        "Invalid Variables"
      ],
      "metadata": {
        "id": "jvEQmHywph91"
      }
    },
    {
      "cell_type": "code",
      "source": [
        "invalid_variables=(\"int\",\"str\",\"print\",\"float\")\n",
        "print(\"invalid_variables=\",invalid_variables)"
      ],
      "metadata": {
        "colab": {
          "base_uri": "https://localhost:8080/"
        },
        "id": "9qGQeyVppmFk",
        "outputId": "27c834db-59fa-44e8-ceb9-c376aba11559"
      },
      "execution_count": null,
      "outputs": [
        {
          "output_type": "stream",
          "name": "stdout",
          "text": [
            "invalid_variables= ('int', 'str', 'print', 'float')\n"
          ]
        }
      ]
    },
    {
      "cell_type": "code",
      "source": [
        "a=[1,2,3,4,5,]\n",
        "b=a\n",
        "print(type(value),[\"1,2,3,4,5\"])\n",
        "print(\"a is b\",a is b)\n",
        "print(\"a is not b\",a is not b)\n",
        "print(id(a))\n",
        "print(id(b))"
      ],
      "metadata": {
        "id": "CP2CN0lVvii0",
        "colab": {
          "base_uri": "https://localhost:8080/"
        },
        "outputId": "4125dbf0-e106-47db-c5b1-5aa3332685f2"
      },
      "execution_count": null,
      "outputs": [
        {
          "output_type": "stream",
          "name": "stdout",
          "text": [
            "<class 'list'> ['1,2,3,4,5']\n",
            "a is b True\n",
            "a is not b False\n",
            "137434616955520\n",
            "137434616955520\n"
          ]
        }
      ]
    },
    {
      "cell_type": "code",
      "source": [
        "import keyword\n",
        "print(keyword.kwlist)"
      ],
      "metadata": {
        "colab": {
          "base_uri": "https://localhost:8080/"
        },
        "id": "4gxrfx0t2WRT",
        "outputId": "fabfdc65-c057-4b26-d66c-19a255d99245"
      },
      "execution_count": null,
      "outputs": [
        {
          "output_type": "stream",
          "name": "stdout",
          "text": [
            "['False', 'None', 'True', 'and', 'as', 'assert', 'async', 'await', 'break', 'class', 'continue', 'def', 'del', 'elif', 'else', 'except', 'finally', 'for', 'from', 'global', 'if', 'import', 'in', 'is', 'lambda', 'nonlocal', 'not', 'or', 'pass', 'raise', 'return', 'try', 'while', 'with', 'yield']\n"
          ]
        }
      ]
    }
  ],
  "metadata": {
    "colab": {
      "provenance": []
    },
    "kernelspec": {
      "display_name": "Python 3",
      "name": "python3"
    },
    "language_info": {
      "name": "python"
    }
  },
  "nbformat": 4,
  "nbformat_minor": 0
}