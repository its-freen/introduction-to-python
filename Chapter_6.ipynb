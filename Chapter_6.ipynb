{
  "nbformat": 4,
  "nbformat_minor": 0,
  "metadata": {
    "colab": {
      "provenance": []
    },
    "kernelspec": {
      "name": "python3",
      "display_name": "Python 3"
    },
    "language_info": {
      "name": "python"
    }
  },
  "cells": [
    {
      "cell_type": "markdown",
      "source": [
        "1.create a list of 5 fruits and print each using loop."
      ],
      "metadata": {
        "id": "YI-fb7lnwNua"
      }
    },
    {
      "cell_type": "code",
      "source": [
        "fruits=[\"mango\",\"kiwi\",\"melon\",\"plum\",\"grapes\"]\n",
        "for x in fruits:\n",
        "  print(x)"
      ],
      "metadata": {
        "colab": {
          "base_uri": "https://localhost:8080/"
        },
        "id": "mSJC8zedwYiv",
        "outputId": "83a37f74-6f22-4096-957a-f83b43c54475"
      },
      "execution_count": null,
      "outputs": [
        {
          "output_type": "stream",
          "name": "stdout",
          "text": [
            "mango\n",
            "kiwi\n",
            "melon\n",
            "plum\n",
            "grapes\n"
          ]
        }
      ]
    },
    {
      "cell_type": "markdown",
      "source": [
        "2.create a tuple with 3 items :name,age and city.access print each."
      ],
      "metadata": {
        "id": "KmkicDyGw25t"
      }
    },
    {
      "cell_type": "code",
      "source": [
        "my_tuple=(\"freen\",\"18\",\"gujranwala\")\n",
        "for x in my_tuple:\n",
        "  print(x)"
      ],
      "metadata": {
        "colab": {
          "base_uri": "https://localhost:8080/"
        },
        "id": "AV5sQKI-xOX4",
        "outputId": "18cddeda-c175-4686-b782-a2595b64ee28"
      },
      "execution_count": null,
      "outputs": [
        {
          "output_type": "stream",
          "name": "stdout",
          "text": [
            "freen\n",
            "18\n",
            "gujranwala\n"
          ]
        }
      ]
    },
    {
      "cell_type": "markdown",
      "source": [
        "3.create a dictionary with student name,class and score. print keys and values."
      ],
      "metadata": {
        "id": "2B5nTntIx4ji"
      }
    },
    {
      "cell_type": "code",
      "source": [
        "person:dict={\"name\":\"alia\",\"class\":12,\"score\":88}\n",
        "print(person.keys())\n",
        "print(person.values())"
      ],
      "metadata": {
        "colab": {
          "base_uri": "https://localhost:8080/"
        },
        "id": "uaXQuHANyzLp",
        "outputId": "3dbb6350-f13d-4214-9028-c36fc363eeb0"
      },
      "execution_count": null,
      "outputs": [
        {
          "output_type": "stream",
          "name": "stdout",
          "text": [
            "dict_keys(['name', 'class', 'score'])\n",
            "dict_values(['alia', 12, 88])\n"
          ]
        }
      ]
    },
    {
      "cell_type": "markdown",
      "source": [
        "4.update a list by adding and removing items.print the updated list."
      ],
      "metadata": {
        "id": "v_E7BYYN0tvd"
      }
    },
    {
      "cell_type": "code",
      "source": [
        "my_list=[1,3,5,6,7]\n",
        "my_list.append(9)\n",
        "my_list.remove(3)\n",
        "print(my_list)\n"
      ],
      "metadata": {
        "colab": {
          "base_uri": "https://localhost:8080/"
        },
        "id": "GvW34Sg30683",
        "outputId": "9ef544c8-5315-4480-c169-a15c20235734"
      },
      "execution_count": null,
      "outputs": [
        {
          "output_type": "stream",
          "name": "stdout",
          "text": [
            "[1, 5, 6, 7, 9]\n"
          ]
        }
      ]
    },
    {
      "cell_type": "markdown",
      "source": [
        "5.use a loop to count items in the list and print using len()"
      ],
      "metadata": {
        "id": "HFESG-ld1VQP"
      }
    },
    {
      "cell_type": "code",
      "source": [
        "my_list=[\"nails\",\"blush\",\"gloss\",\"perfume\"]\n",
        "for items in my_list:\n",
        "  print(len(my_list))\n"
      ],
      "metadata": {
        "colab": {
          "base_uri": "https://localhost:8080/"
        },
        "id": "imGVxSsx8TrT",
        "outputId": "00932a8d-fa7f-41e1-efd1-2bdeeccdb5c5"
      },
      "execution_count": null,
      "outputs": [
        {
          "output_type": "stream",
          "name": "stdout",
          "text": [
            "4\n",
            "4\n",
            "4\n",
            "4\n"
          ]
        }
      ]
    },
    {
      "cell_type": "markdown",
      "source": [
        "6.check if a value exists in a tuple using in keyword."
      ],
      "metadata": {
        "id": "UZz-yykH490u"
      }
    },
    {
      "cell_type": "code",
      "source": [
        "tuple=(1,10,20)\n",
        "print(\"if 10 in tuple?\",10 in tuple)"
      ],
      "metadata": {
        "id": "oEVDNDwC57aw",
        "colab": {
          "base_uri": "https://localhost:8080/"
        },
        "outputId": "3c704342-e9fd-4d60-ac6a-2c427b3f3730"
      },
      "execution_count": null,
      "outputs": [
        {
          "output_type": "stream",
          "name": "stdout",
          "text": [
            "if 10 in tuple? True\n"
          ]
        }
      ]
    },
    {
      "cell_type": "markdown",
      "source": [
        "7.add a new key-value pair to dictionary and print the result."
      ],
      "metadata": {
        "id": "64bRhpA99SB8"
      }
    },
    {
      "cell_type": "code",
      "source": [
        "value:dict={\"score\":96,\"grade\":\"A+\"}\n",
        "print(value)"
      ],
      "metadata": {
        "colab": {
          "base_uri": "https://localhost:8080/"
        },
        "id": "RpmdXEFt98fT",
        "outputId": "0c1179d7-787d-4f69-db3e-09213b3bc66f"
      },
      "execution_count": null,
      "outputs": [
        {
          "output_type": "stream",
          "name": "stdout",
          "text": [
            "{'score': 96, 'grade': 'A+'}\n"
          ]
        }
      ]
    },
    {
      "cell_type": "markdown",
      "source": [
        "8.write a program that converts a list to tuple and prints both."
      ],
      "metadata": {
        "id": "TEA8bcZA_Loi"
      }
    },
    {
      "cell_type": "code",
      "source": [
        "my_list=[1,5,7,8]\n",
        "my_tuple=tuple(my_list)\n",
        "print(my_list)\n",
        "print(my_tuple)"
      ],
      "metadata": {
        "colab": {
          "base_uri": "https://localhost:8080/"
        },
        "id": "3ITKZdWi_bNB",
        "outputId": "dbd997c5-55a5-4b0b-bf02-cf41acac5d2c"
      },
      "execution_count": null,
      "outputs": [
        {
          "output_type": "stream",
          "name": "stdout",
          "text": [
            "[1, 5, 7, 8]\n",
            "(1, 5, 7, 8)\n"
          ]
        }
      ]
    },
    {
      "cell_type": "code",
      "metadata": {
        "colab": {
          "base_uri": "https://localhost:8080/"
        },
        "id": "81527e82",
        "outputId": "df25ff68-04b6-48a1-abb7-2be8b1275bce"
      },
      "source": [
        "print(\"Hello, world!\")"
      ],
      "execution_count": null,
      "outputs": [
        {
          "output_type": "stream",
          "name": "stdout",
          "text": [
            "Hello, world!\n"
          ]
        }
      ]
    },
    {
      "cell_type": "markdown",
      "source": [
        "9.create a dictionary of 3 students with marks.print names who scored>80."
      ],
      "metadata": {
        "id": "5tefgEXqDNdy"
      }
    },
    {
      "cell_type": "code",
      "source": [
        "my_dict={\"freen\":96,\"alia\":88,\"sara\":78}\n",
        "for name,marks in my_dict.items():\n",
        "  if marks>80:\n",
        "    print(name)"
      ],
      "metadata": {
        "colab": {
          "base_uri": "https://localhost:8080/"
        },
        "id": "CyyeaTkUDnCj",
        "outputId": "1167ff82-8cce-413a-bf5f-cc5681536293"
      },
      "execution_count": null,
      "outputs": [
        {
          "output_type": "stream",
          "name": "stdout",
          "text": [
            "freen\n",
            "alia\n"
          ]
        }
      ]
    },
    {
      "cell_type": "markdown",
      "source": [
        "10.create a tuple of mixed data.loop through it and print type of each item."
      ],
      "metadata": {
        "id": "p4iBPVnGEbwn"
      }
    },
    {
      "cell_type": "code",
      "source": [
        "my_tuple=[\"alia\",33,True]\n",
        "for x in my_tuple:\n",
        "  print(type(x))\n",
        "  print(x)"
      ],
      "metadata": {
        "colab": {
          "base_uri": "https://localhost:8080/"
        },
        "id": "Hjxr2zyYEsIH",
        "outputId": "89137d00-e8d5-4b65-e3a0-c996a387152e"
      },
      "execution_count": null,
      "outputs": [
        {
          "output_type": "stream",
          "name": "stdout",
          "text": [
            "<class 'str'>\n",
            "alia\n",
            "<class 'int'>\n",
            "33\n",
            "<class 'bool'>\n",
            "True\n"
          ]
        }
      ]
    }
  ]
}