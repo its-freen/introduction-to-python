{
  "nbformat": 4,
  "nbformat_minor": 0,
  "metadata": {
    "colab": {
      "provenance": []
    },
    "kernelspec": {
      "name": "python3",
      "display_name": "Python 3"
    },
    "language_info": {
      "name": "python"
    }
  },
  "cells": [
    {
      "cell_type": "code",
      "execution_count": null,
      "metadata": {
        "colab": {
          "base_uri": "https://localhost:8080/"
        },
        "id": "07ermjLk1Z6V",
        "outputId": "8d81b730-2c62-4232-8057-4a2d97ff868e"
      },
      "outputs": [
        {
          "output_type": "stream",
          "name": "stdout",
          "text": [
            "red\n"
          ]
        }
      ],
      "source": [
        "colour=\"red\";print(colour)"
      ]
    },
    {
      "cell_type": "code",
      "source": [
        "year=2007\n",
        "print(year)"
      ],
      "metadata": {
        "colab": {
          "base_uri": "https://localhost:8080/"
        },
        "id": "m4cfWwlr1sdb",
        "outputId": "e91b0ec7-24e2-4ec3-fde0-4b76c76955d6"
      },
      "execution_count": null,
      "outputs": [
        {
          "output_type": "stream",
          "name": "stdout",
          "text": [
            "2007\n"
          ]
        }
      ]
    },
    {
      "cell_type": "code",
      "source": [
        "a=\"pizza\"\n",
        "print(a)"
      ],
      "metadata": {
        "colab": {
          "base_uri": "https://localhost:8080/"
        },
        "id": "ZTvfAn9b5HTK",
        "outputId": "197054e4-8886-4c4a-e635-74974acec6ba"
      },
      "execution_count": null,
      "outputs": [
        {
          "output_type": "stream",
          "name": "stdout",
          "text": [
            "pizza\n"
          ]
        }
      ]
    },
    {
      "cell_type": "code",
      "source": [
        "num1=3;num2=4;sum=num1+num2;print(sum)"
      ],
      "metadata": {
        "colab": {
          "base_uri": "https://localhost:8080/"
        },
        "id": "_9b2urkS5OxG",
        "outputId": "5d44c09c-aef8-4bb4-b710-91713b5a5b68"
      },
      "execution_count": null,
      "outputs": [
        {
          "output_type": "stream",
          "name": "stdout",
          "text": [
            "7\n"
          ]
        }
      ]
    },
    {
      "cell_type": "code",
      "source": [
        "hobby=\"football\";\n",
        "print(\"my hobby is football\")"
      ],
      "metadata": {
        "colab": {
          "base_uri": "https://localhost:8080/"
        },
        "id": "tMRJNlV95mQ-",
        "outputId": "f5bf8a20-e762-495e-e580-e9259334fd75"
      },
      "execution_count": null,
      "outputs": [
        {
          "output_type": "stream",
          "name": "stdout",
          "text": [
            "my hobby is football\n"
          ]
        }
      ]
    },
    {
      "cell_type": "code",
      "source": [
        "country=\"pakistan\";\n",
        "print(\"I am from pakistan\")"
      ],
      "metadata": {
        "colab": {
          "base_uri": "https://localhost:8080/"
        },
        "id": "EK66cS1A6GOC",
        "outputId": "a748f690-1491-4580-80df-6d508a790ebc"
      },
      "execution_count": null,
      "outputs": [
        {
          "output_type": "stream",
          "name": "stdout",
          "text": [
            "I am from pakistan\n"
          ]
        }
      ]
    },
    {
      "cell_type": "code",
      "source": [
        "name=\"freen\"\n",
        "color=\"red\"\n",
        "hobby=\"football\"\n",
        "print(\"my name is freen my favorite color is red my hobby is football\")"
      ],
      "metadata": {
        "colab": {
          "base_uri": "https://localhost:8080/"
        },
        "id": "r252pRo16uTW",
        "outputId": "6c18c964-2c86-42b2-98a1-fdbb0a44974f"
      },
      "execution_count": null,
      "outputs": [
        {
          "output_type": "stream",
          "name": "stdout",
          "text": [
            "my name is freen my favorite color is red my hobby is football\n"
          ]
        }
      ]
    },
    {
      "cell_type": "code",
      "source": [
        "num1=6;num2=8;difference=num1-num2;print(difference)"
      ],
      "metadata": {
        "colab": {
          "base_uri": "https://localhost:8080/"
        },
        "id": "VuVZ4i4C7cSt",
        "outputId": "46d8c26e-01cd-4a3c-d0e7-fa26d87cd257"
      },
      "execution_count": null,
      "outputs": [
        {
          "output_type": "stream",
          "name": "stdout",
          "text": [
            "-2\n"
          ]
        }
      ]
    },
    {
      "cell_type": "code",
      "source": [
        "book=\"laws of life\" ;print(book)"
      ],
      "metadata": {
        "colab": {
          "base_uri": "https://localhost:8080/"
        },
        "id": "vYiCKJws79y-",
        "outputId": "daffec7e-b137-438d-ac6b-84e0510b7e65"
      },
      "execution_count": null,
      "outputs": [
        {
          "output_type": "stream",
          "name": "stdout",
          "text": [
            "laws of life\n"
          ]
        }
      ]
    },
    {
      "cell_type": "code",
      "source": [
        "movie=\"alice looking through the glass\";\n",
        "print(movie)"
      ],
      "metadata": {
        "colab": {
          "base_uri": "https://localhost:8080/"
        },
        "id": "Of4tdwpQ-BIJ",
        "outputId": "a01812fa-354f-4b9f-97ab-bbe19d5793e0"
      },
      "execution_count": null,
      "outputs": [
        {
          "output_type": "stream",
          "name": "stdout",
          "text": [
            "alice looking through the glass\n"
          ]
        }
      ]
    }
  ]
}