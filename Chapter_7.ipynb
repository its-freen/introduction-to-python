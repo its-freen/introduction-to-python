{
  "nbformat": 4,
  "nbformat_minor": 0,
  "metadata": {
    "colab": {
      "provenance": []
    },
    "kernelspec": {
      "name": "python3",
      "display_name": "Python 3"
    },
    "language_info": {
      "name": "python"
    }
  },
  "cells": [
    {
      "cell_type": "markdown",
      "source": [
        "1.create a set of 5 fruits and print it."
      ],
      "metadata": {
        "id": "xgS02ytNhTtA"
      }
    },
    {
      "cell_type": "code",
      "source": [
        "fruits={\"mango\",\"kivi\",\"grapes\",\"plum\",\"banana\"}\n",
        "print(fruits)"
      ],
      "metadata": {
        "colab": {
          "base_uri": "https://localhost:8080/"
        },
        "id": "MVcOiaJphYDE",
        "outputId": "ef40387c-73e1-4537-8163-96e011b499ad"
      },
      "execution_count": 1,
      "outputs": [
        {
          "output_type": "stream",
          "name": "stdout",
          "text": [
            "{'plum', 'kivi', 'mango', 'banana', 'grapes'}\n"
          ]
        }
      ]
    },
    {
      "cell_type": "markdown",
      "source": [
        "2.add one new fruit to your set by using.add()and print the updated set."
      ],
      "metadata": {
        "id": "zLlWKhOLiNib"
      }
    },
    {
      "cell_type": "code",
      "source": [
        "my_set={\"mango\",\"guvava\",\"grapes\"}\n",
        "my_set.add(\"kivi\")\n",
        "print(my_set)"
      ],
      "metadata": {
        "colab": {
          "base_uri": "https://localhost:8080/"
        },
        "id": "PL0bmsT8ihLf",
        "outputId": "3c4ab336-e912-45f5-8ecc-29f97fe26e8e"
      },
      "execution_count": 2,
      "outputs": [
        {
          "output_type": "stream",
          "name": "stdout",
          "text": [
            "{'kivi', 'guvava', 'grapes', 'mango'}\n"
          ]
        }
      ]
    },
    {
      "cell_type": "markdown",
      "source": [
        "3.remove an existing fruit using .remove()"
      ],
      "metadata": {
        "id": "RnYj6SagjFCf"
      }
    },
    {
      "cell_type": "code",
      "source": [
        "my_set={\"mango\",\"guvava\",\"grapes\"}\n",
        "my_set.remove(\"guvava\")\n",
        "print(my_set)"
      ],
      "metadata": {
        "colab": {
          "base_uri": "https://localhost:8080/"
        },
        "id": "4SvJS-ZojxEZ",
        "outputId": "f9a8e9cb-ffd6-4387-f257-61dac9c65520"
      },
      "execution_count": 3,
      "outputs": [
        {
          "output_type": "stream",
          "name": "stdout",
          "text": [
            "{'grapes', 'mango'}\n"
          ]
        }
      ]
    },
    {
      "cell_type": "markdown",
      "source": [
        "4.remove an existing fruit using.discard()."
      ],
      "metadata": {
        "id": "-0rvi5bYkdRP"
      }
    },
    {
      "cell_type": "code",
      "source": [
        "my_set={\"mango\",\"guvava\",\"grapes\"}\n",
        "my_set.discard(\"mango\")\n",
        "print(my_set)"
      ],
      "metadata": {
        "colab": {
          "base_uri": "https://localhost:8080/"
        },
        "id": "RV_CBXuPlBjj",
        "outputId": "3c9b2e61-2ca1-4026-9fa7-ccf02f304974"
      },
      "execution_count": 4,
      "outputs": [
        {
          "output_type": "stream",
          "name": "stdout",
          "text": [
            "{'guvava', 'grapes'}\n"
          ]
        }
      ]
    },
    {
      "cell_type": "markdown",
      "source": [
        "5.use.pop()to remove an arbitrary item and print the result."
      ],
      "metadata": {
        "id": "UpyE4rn0mIYj"
      }
    },
    {
      "cell_type": "code",
      "source": [
        "set={\"mango\",\"kivi\",\"plum\",\"cherry\"}\n",
        "set.pop()\n",
        "print(set)"
      ],
      "metadata": {
        "colab": {
          "base_uri": "https://localhost:8080/"
        },
        "id": "9oarUDb5mYO_",
        "outputId": "ab4de680-4103-438e-9a37-438241699065"
      },
      "execution_count": 13,
      "outputs": [
        {
          "output_type": "stream",
          "name": "stdout",
          "text": [
            "{'kivi', 'mango', 'cherry'}\n"
          ]
        }
      ]
    },
    {
      "cell_type": "markdown",
      "source": [
        "6.clear the remaining items using.clear() and show that the set is now empty."
      ],
      "metadata": {
        "id": "MpLT8tC-ocA3"
      }
    },
    {
      "cell_type": "code",
      "source": [
        "set={\"mango\",\"kivi\",\"plum\",\"cherry\"}\n",
        "set.clear()\n",
        "print(set)"
      ],
      "metadata": {
        "colab": {
          "base_uri": "https://localhost:8080/"
        },
        "id": "ZtFHi7CjouIC",
        "outputId": "7552992b-7f8b-47bc-e099-90b1cd7e82f3"
      },
      "execution_count": 14,
      "outputs": [
        {
          "output_type": "stream",
          "name": "stdout",
          "text": [
            "set()\n"
          ]
        }
      ]
    },
    {
      "cell_type": "markdown",
      "source": [
        "7.create two sets of numbers and display their union,intersection,difference,symmetric difference."
      ],
      "metadata": {
        "id": "rd5Fc9_Ao-_W"
      }
    },
    {
      "cell_type": "code",
      "source": [
        "set1={1,2,3,4,5}\n",
        "set2={1,3,6,8}\n",
        "set3=set1.union(set2)\n",
        "print(set3)\n",
        "set3=set1.intersection(set2)\n",
        "print(set3)\n",
        "set3=set2.difference(set1)\n",
        "print(set3)\n",
        "set3=set1.symmetric_difference(set2)\n",
        "print(set3)"
      ],
      "metadata": {
        "colab": {
          "base_uri": "https://localhost:8080/"
        },
        "id": "oJijgnkwpfN1",
        "outputId": "c6bdc7cf-affe-45ec-d7d2-aa8bb7f9898e"
      },
      "execution_count": 18,
      "outputs": [
        {
          "output_type": "stream",
          "name": "stdout",
          "text": [
            "{1, 2, 3, 4, 5, 6, 8}\n",
            "{1, 3}\n",
            "{8, 6}\n",
            "{2, 4, 5, 6, 8}\n"
          ]
        }
      ]
    },
    {
      "cell_type": "markdown",
      "source": [
        "8.check if one set is subset or superset of another,and print the result."
      ],
      "metadata": {
        "id": "Ab4r6JM1sgie"
      }
    },
    {
      "cell_type": "code",
      "source": [
        "set1={1,2,3,4,5}\n",
        "set2={1,4,6,8,}\n",
        "set3=set1.issubset(set2)\n",
        "print(set3)\n",
        "set3=set1.issuperset(set2)\n",
        "print(set3)"
      ],
      "metadata": {
        "colab": {
          "base_uri": "https://localhost:8080/"
        },
        "id": "F18Gwh8ystMh",
        "outputId": "56906859-7473-41ca-e43d-a3a45752686d"
      },
      "execution_count": 20,
      "outputs": [
        {
          "output_type": "stream",
          "name": "stdout",
          "text": [
            "False\n",
            "False\n"
          ]
        }
      ]
    },
    {
      "cell_type": "markdown",
      "source": [
        "9.declare a frozenset of vowels and try adding an item ."
      ],
      "metadata": {
        "id": "a6P2VPcotxy1"
      }
    },
    {
      "cell_type": "code",
      "source": [
        "frozen_set={\"a\",\"e\",\"i\",\"o\",\"u\"}\n",
        "frozen_set.add(\"g\")\n",
        "print(frozen_set)"
      ],
      "metadata": {
        "colab": {
          "base_uri": "https://localhost:8080/"
        },
        "id": "M2S9tUW9t_Mg",
        "outputId": "26eaa5be-1ba8-4b7f-cb1d-3190e33d180e"
      },
      "execution_count": 22,
      "outputs": [
        {
          "output_type": "stream",
          "name": "stdout",
          "text": [
            "{'a', 'o', 'i', 'e', 'g', 'u'}\n"
          ]
        }
      ]
    },
    {
      "cell_type": "markdown",
      "source": [
        "10.use loop to check membership of user input charchter in the set of vowels."
      ],
      "metadata": {
        "id": "dHTziyMUucGi"
      }
    },
    {
      "cell_type": "code",
      "source": [
        "set={\"a\",\"e\",\"i\",\"o\",\"u\"}\n",
        "set1=input(\"Enter a charachter:\").lower()\n",
        "found=False\n",
        "for vowels in set:\n",
        "  if set==set1:\n",
        "    found=True\n",
        "if found:\n",
        "    print(f\"the charchter '{set}'is vowel\")\n",
        "else:\n",
        "  print(f\"the charachter'{set}'is not vowel\")"
      ],
      "metadata": {
        "id": "6pt3wKdkuogb"
      },
      "execution_count": null,
      "outputs": []
    }
  ]
}